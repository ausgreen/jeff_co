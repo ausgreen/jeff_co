{
 "cells": [
  {
   "cell_type": "markdown",
   "metadata": {},
   "source": [
    "## Alabama gun violence\n",
    "This file is an exploration into gun violence in Alabama from the years 2014 through 2017."
   ]
  },
  {
   "cell_type": "markdown",
   "metadata": {},
   "source": [
    "##### Import Python Modules"
   ]
  },
  {
   "cell_type": "code",
   "execution_count": 1,
   "metadata": {},
   "outputs": [],
   "source": [
    "import folium\n",
    "from folium.plugins import MarkerCluster\n",
    "import pandas as pd\n",
    "import numpy as np\n",
    "import seaborn as sns"
   ]
  },
  {
   "cell_type": "markdown",
   "metadata": {},
   "source": [
    "##### Setup our base map"
   ]
  },
  {
   "cell_type": "code",
   "execution_count": 12,
   "metadata": {},
   "outputs": [],
   "source": [
    "gun_map = folium.Map(location=[32.3182, -86.9023], zoom_start=7, tiles='Stamen Terrain')"
   ]
  },
  {
   "cell_type": "code",
   "execution_count": 3,
   "metadata": {},
   "outputs": [],
   "source": [
    "# gather and\n",
    "gun_data_1 = pd.read_csv('al_gun_01.csv')\n",
    "gun_data_2 = pd.read_csv('al_gun_02.csv')\n",
    "gun_data_3 = pd.read_csv('al_gun_03.csv')\n",
    "gun_data_4 = pd.read_csv('al_gun_04.csv')\n",
    "gun_data_5 = pd.read_csv('al_gun_05.csv')\n",
    "\n",
    "frames = [gun_data_1, gun_data_2, gun_data_3, gun_data_4, gun_data_5]\n",
    "df = pd.concat(frames, ignore_index=True)"
   ]
  },
  {
   "cell_type": "code",
   "execution_count": 4,
   "metadata": {},
   "outputs": [
    {
     "data": {
      "text/html": [
       "<div>\n",
       "<style scoped>\n",
       "    .dataframe tbody tr th:only-of-type {\n",
       "        vertical-align: middle;\n",
       "    }\n",
       "\n",
       "    .dataframe tbody tr th {\n",
       "        vertical-align: top;\n",
       "    }\n",
       "\n",
       "    .dataframe thead th {\n",
       "        text-align: right;\n",
       "    }\n",
       "</style>\n",
       "<table border=\"1\" class=\"dataframe\">\n",
       "  <thead>\n",
       "    <tr style=\"text-align: right;\">\n",
       "      <th></th>\n",
       "      <th>Unnamed: 0</th>\n",
       "      <th>Unnamed: 0.1</th>\n",
       "      <th>Unnamed: 0.1.1</th>\n",
       "      <th>X</th>\n",
       "      <th>address</th>\n",
       "      <th>city_or_county</th>\n",
       "      <th>date</th>\n",
       "      <th>incident_url</th>\n",
       "      <th>latitude</th>\n",
       "      <th>longitude</th>\n",
       "      <th>n_injured</th>\n",
       "      <th>n_killed</th>\n",
       "    </tr>\n",
       "  </thead>\n",
       "  <tbody>\n",
       "    <tr>\n",
       "      <th>0</th>\n",
       "      <td>0</td>\n",
       "      <td>0</td>\n",
       "      <td>1</td>\n",
       "      <td>19</td>\n",
       "      <td>1300 block of Alabama Ave</td>\n",
       "      <td>Selma</td>\n",
       "      <td>2014-09-01</td>\n",
       "      <td>http://www.gunviolencearchive.org/incident/186796</td>\n",
       "      <td>32.408460</td>\n",
       "      <td>-87.017550</td>\n",
       "      <td>0</td>\n",
       "      <td>0</td>\n",
       "    </tr>\n",
       "    <tr>\n",
       "      <th>1</th>\n",
       "      <td>1</td>\n",
       "      <td>1</td>\n",
       "      <td>2</td>\n",
       "      <td>44</td>\n",
       "      <td>5900 Messer Airport Hwy</td>\n",
       "      <td>Birmingham</td>\n",
       "      <td>2014-09-01</td>\n",
       "      <td>http://www.gunviolencearchive.org/incident/192477</td>\n",
       "      <td>33.562078</td>\n",
       "      <td>-86.752285</td>\n",
       "      <td>0</td>\n",
       "      <td>0</td>\n",
       "    </tr>\n",
       "    <tr>\n",
       "      <th>2</th>\n",
       "      <td>2</td>\n",
       "      <td>2</td>\n",
       "      <td>3</td>\n",
       "      <td>152</td>\n",
       "      <td>3100 block of 20th Street</td>\n",
       "      <td>Tuscaloosa</td>\n",
       "      <td>2014-09-01</td>\n",
       "      <td>http://www.gunviolencearchive.org/incident/186638</td>\n",
       "      <td>33.194426</td>\n",
       "      <td>-87.576201</td>\n",
       "      <td>1</td>\n",
       "      <td>0</td>\n",
       "    </tr>\n",
       "    <tr>\n",
       "      <th>3</th>\n",
       "      <td>3</td>\n",
       "      <td>3</td>\n",
       "      <td>4</td>\n",
       "      <td>304</td>\n",
       "      <td>502 Barnett Boulevard</td>\n",
       "      <td>Tallassee</td>\n",
       "      <td>2014-09-02</td>\n",
       "      <td>http://www.gunviolencearchive.org/incident/186827</td>\n",
       "      <td>32.537157</td>\n",
       "      <td>-85.897266</td>\n",
       "      <td>0</td>\n",
       "      <td>0</td>\n",
       "    </tr>\n",
       "    <tr>\n",
       "      <th>4</th>\n",
       "      <td>4</td>\n",
       "      <td>4</td>\n",
       "      <td>5</td>\n",
       "      <td>305</td>\n",
       "      <td>1500 block of 53rd St</td>\n",
       "      <td>Birmingham (Ensley)</td>\n",
       "      <td>2014-09-02</td>\n",
       "      <td>http://www.gunviolencearchive.org/incident/186723</td>\n",
       "      <td>33.482190</td>\n",
       "      <td>-86.896319</td>\n",
       "      <td>0</td>\n",
       "      <td>1</td>\n",
       "    </tr>\n",
       "  </tbody>\n",
       "</table>\n",
       "</div>"
      ],
      "text/plain": [
       "   Unnamed: 0  Unnamed: 0.1  Unnamed: 0.1.1    X                     address  \\\n",
       "0           0             0               1   19   1300 block of Alabama Ave   \n",
       "1           1             1               2   44     5900 Messer Airport Hwy   \n",
       "2           2             2               3  152  3100 block of 20th Street    \n",
       "3           3             3               4  304       502 Barnett Boulevard   \n",
       "4           4             4               5  305       1500 block of 53rd St   \n",
       "\n",
       "        city_or_county        date  \\\n",
       "0                Selma  2014-09-01   \n",
       "1           Birmingham  2014-09-01   \n",
       "2           Tuscaloosa  2014-09-01   \n",
       "3            Tallassee  2014-09-02   \n",
       "4  Birmingham (Ensley)  2014-09-02   \n",
       "\n",
       "                                        incident_url   latitude  longitude  \\\n",
       "0  http://www.gunviolencearchive.org/incident/186796  32.408460 -87.017550   \n",
       "1  http://www.gunviolencearchive.org/incident/192477  33.562078 -86.752285   \n",
       "2  http://www.gunviolencearchive.org/incident/186638  33.194426 -87.576201   \n",
       "3  http://www.gunviolencearchive.org/incident/186827  32.537157 -85.897266   \n",
       "4  http://www.gunviolencearchive.org/incident/186723  33.482190 -86.896319   \n",
       "\n",
       "   n_injured  n_killed  \n",
       "0          0         0  \n",
       "1          0         0  \n",
       "2          1         0  \n",
       "3          0         0  \n",
       "4          0         1  "
      ]
     },
     "execution_count": 4,
     "metadata": {},
     "output_type": "execute_result"
    }
   ],
   "source": [
    "df.head()"
   ]
  },
  {
   "cell_type": "code",
   "execution_count": 5,
   "metadata": {},
   "outputs": [
    {
     "name": "stdout",
     "output_type": "stream",
     "text": [
      "<class 'pandas.core.frame.DataFrame'>\n",
      "RangeIndex: 11034 entries, 0 to 11033\n",
      "Data columns (total 12 columns):\n",
      "Unnamed: 0        11034 non-null int64\n",
      "Unnamed: 0.1      11034 non-null int64\n",
      "Unnamed: 0.1.1    11034 non-null int64\n",
      "X                 11034 non-null int64\n",
      "address           10303 non-null object\n",
      "city_or_county    11034 non-null object\n",
      "date              11034 non-null object\n",
      "incident_url      11034 non-null object\n",
      "latitude          10958 non-null float64\n",
      "longitude         10958 non-null float64\n",
      "n_injured         11034 non-null int64\n",
      "n_killed          11034 non-null int64\n",
      "dtypes: float64(2), int64(6), object(4)\n",
      "memory usage: 1.0+ MB\n"
     ]
    }
   ],
   "source": [
    "# Get a better idea of what our dataframe looks like\n",
    "df.info()"
   ]
  },
  {
   "cell_type": "code",
   "execution_count": 7,
   "metadata": {},
   "outputs": [
    {
     "name": "stdout",
     "output_type": "stream",
     "text": [
      "<class 'pandas.core.frame.DataFrame'>\n",
      "Int64Index: 5474 entries, 0 to 10178\n",
      "Data columns (total 12 columns):\n",
      "Unnamed: 0        5474 non-null int64\n",
      "Unnamed: 0.1      5474 non-null int64\n",
      "Unnamed: 0.1.1    5474 non-null int64\n",
      "X                 5474 non-null int64\n",
      "address           5110 non-null object\n",
      "city_or_county    5474 non-null object\n",
      "date              5474 non-null object\n",
      "incident_url      5474 non-null object\n",
      "latitude          5435 non-null float64\n",
      "longitude         5435 non-null float64\n",
      "n_injured         5474 non-null int64\n",
      "n_killed          5474 non-null int64\n",
      "dtypes: float64(2), int64(6), object(4)\n",
      "memory usage: 556.0+ KB\n"
     ]
    }
   ],
   "source": [
    "# The data seems to have some duplicate entries.  We need to remove them\n",
    "# actually, was duplicating every entry.  I'll need to review this later\n",
    "df = df.drop_duplicates(subset='incident_url', keep='first')\n",
    "df.info()"
   ]
  },
  {
   "cell_type": "markdown",
   "metadata": {},
   "source": [
    "I want to see what I'm working with.  Then I'll make decisions on how to best present the information."
   ]
  },
  {
   "cell_type": "code",
   "execution_count": null,
   "metadata": {
    "scrolled": true
   },
   "outputs": [],
   "source": [
    "# Use MarkerCluster for clarity and page speed\n",
    "mc = MarkerCluster()\n",
    "\n",
    "# build up datapoints\n",
    "for i, row in df.iterrows():\n",
    "    if(not np.isnan(row['latitude'])):\n",
    "        folium.Marker(location=[row['latitude'], row['longitude']],\n",
    "                      popup=\"<a href=%s> INCIDENT INFO </a> \\n\" %(row.incident_url) +\n",
    "                            \"<p>Date: %s\" %(row.date) +\n",
    "                            \"<br>Number Killed:\\t %d\" %(row.n_killed) +\n",
    "                            \"<br>Number Injured:\\t %d </p>\" % (row.n_injured)).add_to(mc)"
   ]
  },
  {
   "cell_type": "code",
   "execution_count": null,
   "metadata": {},
   "outputs": [],
   "source": [
    "# gun_map\n",
    "mc.add_to(gun_map)\n",
    "gun_map.save('gun_map_2014_to_2017.html')"
   ]
  },
  {
   "cell_type": "markdown",
   "metadata": {},
   "source": [
    "This data is good, but isn't organized in any meaningful way.  Time to subset by year."
   ]
  },
  {
   "cell_type": "code",
   "execution_count": 8,
   "metadata": {},
   "outputs": [],
   "source": [
    "df_2014 = df.loc[(df['date'] >= '2014-01-01') & (df['date'] <= '2014-12-31')]\n",
    "df_2015 = df.loc[(df['date'] >= '2015-01-01') & (df['date'] <= '2015-12-31')]\n",
    "df_2016 = df.loc[(df['date'] >= '2016-01-01') & (df['date'] <= '2016-12-31')]\n",
    "df_2017 = df.loc[(df['date'] >= '2017-01-01') & (df['date'] <= '2017-12-31')]"
   ]
  },
  {
   "cell_type": "markdown",
   "metadata": {},
   "source": [
    "Make HTML maps for each year."
   ]
  },
  {
   "cell_type": "code",
   "execution_count": 14,
   "metadata": {},
   "outputs": [],
   "source": [
    "map_2014 = folium.Map(location=[32.3182, -86.9023], zoom_start=7, tiles='Stamen Terrain')\n",
    "map_2015 = folium.Map(location=[32.3182, -86.9023], zoom_start=7, tiles='Stamen Terrain')\n",
    "map_2016 = folium.Map(location=[32.3182, -86.9023], zoom_start=7, tiles='Stamen Terrain')\n",
    "map_2017 = folium.Map(location=[32.3182, -86.9023], zoom_start=7, tiles='Stamen Terrain')\n",
    "\n",
    "years = [df_2014, df_2015, df_2016, df_2017]\n",
    "clusters = [MarkerCluster(), MarkerCluster(), MarkerCluster(), MarkerCluster()]\n",
    "\n",
    "# Build clusters for each years map\n",
    "for i, year in enumerate(years):\n",
    "    for _, row in year.iterrows():\n",
    "        if(not np.isnan(row['latitude'])):\n",
    "            folium.Marker(location=[row['latitude'], row['longitude']],\n",
    "                          popup=\"<a href=%s> INCIDENT INFO </a> \\n\"%(row.incident_url) +\n",
    "                                \"<p>Date: %s\"%(row.date) +\n",
    "                                \"<br>Number Killed:\\t %d\"%(row.n_killed) +\n",
    "                                \"<br>Number Injured:\\t %d </p>\"%(row.n_injured)).add_to(clusters[i])\n",
    "    \n",
    "clusters[0].add_to(map_2014)\n",
    "clusters[1].add_to(map_2015)\n",
    "clusters[2].add_to(map_2016)\n",
    "clusters[3].add_to(map_2017)\n",
    "\n",
    "map_2014.save('gun_map_2014.html')\n",
    "map_2015.save('gun_map_2015.html')\n",
    "map_2016.save('gun_map_2016.html')\n",
    "map_2017.save('gun_map_2017.html')"
   ]
  },
  {
   "cell_type": "markdown",
   "metadata": {},
   "source": [
    "### It may be more useful to see heatmaps"
   ]
  },
  {
   "cell_type": "code",
   "execution_count": null,
   "metadata": {},
   "outputs": [],
   "source": [
    "%matplotlib inline\n",
    "import matplotlib\n",
    "import numpy as np\n",
    "import matplotlib.pyplot as plt\n",
    "\n",
    "year_labels = ['2014', '2015', '2016', '2017']\n",
    "yearly_incidents = np.array([df_2014.shape[0], df_2015.shape[0], df_2016.shape[0], df_2017.shape[0]])"
   ]
  },
  {
   "cell_type": "code",
   "execution_count": null,
   "metadata": {},
   "outputs": [],
   "source": [
    "# show proportion of incidents as stacked bar\n",
    "n_injured = np.array([sum(df_2014.n_injured > 0), \n",
    "                      sum(df_2015.n_injured > 0), \n",
    "                      sum(df_2016.n_injured > 0), \n",
    "                      sum(df_2017.n_injured > 0)])\n",
    "n_killed = np.array([sum(df_2014.n_killed > 0), \n",
    "                     sum(df_2015.n_killed > 0), \n",
    "                     sum(df_2016.n_killed > 0), \n",
    "                     sum(df_2017.n_killed > 0)])\n",
    "\n",
    "n_neither = yearly_incidents - (n_injured + n_killed)\n",
    "plt.bar(x_labels, n_neither);\n",
    "plt.bar(x_labels, n_injured, bottom=n_neither);\n",
    "plt.bar(x_labels, n_killed, bottom=(n_neither+n_injured));\n",
    "plt.legend(['No Reported Harm', 'Injured', 'Killed'], bbox_to_anchor=(1, 1.05))\n",
    "plt.title('Gun Violence Incidents\\nAlabama 2014-2017');\n",
    "plt.ylabel('Yearly Incidents');"
   ]
  },
  {
   "cell_type": "code",
   "execution_count": null,
   "metadata": {},
   "outputs": [],
   "source": []
  }
 ],
 "metadata": {
  "kernelspec": {
   "display_name": "Python 3",
   "language": "python",
   "name": "python3"
  },
  "language_info": {
   "codemirror_mode": {
    "name": "ipython",
    "version": 3
   },
   "file_extension": ".py",
   "mimetype": "text/x-python",
   "name": "python",
   "nbconvert_exporter": "python",
   "pygments_lexer": "ipython3",
   "version": "3.6.1"
  }
 },
 "nbformat": 4,
 "nbformat_minor": 2
}
