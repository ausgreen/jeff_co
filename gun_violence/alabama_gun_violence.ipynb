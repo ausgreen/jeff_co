{
 "cells": [
  {
   "cell_type": "code",
   "execution_count": 15,
   "metadata": {},
   "outputs": [],
   "source": [
    "import folium\n",
    "import pandas as pd\n",
    "import numpy as np"
   ]
  },
  {
   "cell_type": "code",
   "execution_count": 2,
   "metadata": {},
   "outputs": [],
   "source": [
    "gun_map = folium.Map(location=[32.3182, -86.9023], zoom_start=7)"
   ]
  },
  {
   "cell_type": "code",
   "execution_count": 3,
   "metadata": {},
   "outputs": [],
   "source": [
    "gun_data = pd.read_csv('al_gun_01.csv')"
   ]
  },
  {
   "cell_type": "code",
   "execution_count": 4,
   "metadata": {},
   "outputs": [
    {
     "data": {
      "text/html": [
       "<div>\n",
       "<style scoped>\n",
       "    .dataframe tbody tr th:only-of-type {\n",
       "        vertical-align: middle;\n",
       "    }\n",
       "\n",
       "    .dataframe tbody tr th {\n",
       "        vertical-align: top;\n",
       "    }\n",
       "\n",
       "    .dataframe thead th {\n",
       "        text-align: right;\n",
       "    }\n",
       "</style>\n",
       "<table border=\"1\" class=\"dataframe\">\n",
       "  <thead>\n",
       "    <tr style=\"text-align: right;\">\n",
       "      <th></th>\n",
       "      <th>Unnamed: 0</th>\n",
       "      <th>Unnamed: 0.1</th>\n",
       "      <th>Unnamed: 0.1.1</th>\n",
       "      <th>X</th>\n",
       "      <th>address</th>\n",
       "      <th>city_or_county</th>\n",
       "      <th>date</th>\n",
       "      <th>incident_url</th>\n",
       "      <th>latitude</th>\n",
       "      <th>longitude</th>\n",
       "      <th>n_injured</th>\n",
       "      <th>n_killed</th>\n",
       "    </tr>\n",
       "  </thead>\n",
       "  <tbody>\n",
       "    <tr>\n",
       "      <th>0</th>\n",
       "      <td>0</td>\n",
       "      <td>0</td>\n",
       "      <td>1</td>\n",
       "      <td>19</td>\n",
       "      <td>1300 block of Alabama Ave</td>\n",
       "      <td>Selma</td>\n",
       "      <td>2014-09-01</td>\n",
       "      <td>http://www.gunviolencearchive.org/incident/186796</td>\n",
       "      <td>32.408460</td>\n",
       "      <td>-87.017550</td>\n",
       "      <td>0</td>\n",
       "      <td>0</td>\n",
       "    </tr>\n",
       "    <tr>\n",
       "      <th>1</th>\n",
       "      <td>1</td>\n",
       "      <td>1</td>\n",
       "      <td>2</td>\n",
       "      <td>44</td>\n",
       "      <td>5900 Messer Airport Hwy</td>\n",
       "      <td>Birmingham</td>\n",
       "      <td>2014-09-01</td>\n",
       "      <td>http://www.gunviolencearchive.org/incident/192477</td>\n",
       "      <td>33.562078</td>\n",
       "      <td>-86.752285</td>\n",
       "      <td>0</td>\n",
       "      <td>0</td>\n",
       "    </tr>\n",
       "    <tr>\n",
       "      <th>2</th>\n",
       "      <td>2</td>\n",
       "      <td>2</td>\n",
       "      <td>3</td>\n",
       "      <td>152</td>\n",
       "      <td>3100 block of 20th Street</td>\n",
       "      <td>Tuscaloosa</td>\n",
       "      <td>2014-09-01</td>\n",
       "      <td>http://www.gunviolencearchive.org/incident/186638</td>\n",
       "      <td>33.194426</td>\n",
       "      <td>-87.576201</td>\n",
       "      <td>1</td>\n",
       "      <td>0</td>\n",
       "    </tr>\n",
       "    <tr>\n",
       "      <th>3</th>\n",
       "      <td>3</td>\n",
       "      <td>3</td>\n",
       "      <td>4</td>\n",
       "      <td>304</td>\n",
       "      <td>502 Barnett Boulevard</td>\n",
       "      <td>Tallassee</td>\n",
       "      <td>2014-09-02</td>\n",
       "      <td>http://www.gunviolencearchive.org/incident/186827</td>\n",
       "      <td>32.537157</td>\n",
       "      <td>-85.897266</td>\n",
       "      <td>0</td>\n",
       "      <td>0</td>\n",
       "    </tr>\n",
       "    <tr>\n",
       "      <th>4</th>\n",
       "      <td>4</td>\n",
       "      <td>4</td>\n",
       "      <td>5</td>\n",
       "      <td>305</td>\n",
       "      <td>1500 block of 53rd St</td>\n",
       "      <td>Birmingham (Ensley)</td>\n",
       "      <td>2014-09-02</td>\n",
       "      <td>http://www.gunviolencearchive.org/incident/186723</td>\n",
       "      <td>33.482190</td>\n",
       "      <td>-86.896319</td>\n",
       "      <td>0</td>\n",
       "      <td>1</td>\n",
       "    </tr>\n",
       "  </tbody>\n",
       "</table>\n",
       "</div>"
      ],
      "text/plain": [
       "   Unnamed: 0  Unnamed: 0.1  Unnamed: 0.1.1    X                     address  \\\n",
       "0           0             0               1   19   1300 block of Alabama Ave   \n",
       "1           1             1               2   44     5900 Messer Airport Hwy   \n",
       "2           2             2               3  152  3100 block of 20th Street    \n",
       "3           3             3               4  304       502 Barnett Boulevard   \n",
       "4           4             4               5  305       1500 block of 53rd St   \n",
       "\n",
       "        city_or_county        date  \\\n",
       "0                Selma  2014-09-01   \n",
       "1           Birmingham  2014-09-01   \n",
       "2           Tuscaloosa  2014-09-01   \n",
       "3            Tallassee  2014-09-02   \n",
       "4  Birmingham (Ensley)  2014-09-02   \n",
       "\n",
       "                                        incident_url   latitude  longitude  \\\n",
       "0  http://www.gunviolencearchive.org/incident/186796  32.408460 -87.017550   \n",
       "1  http://www.gunviolencearchive.org/incident/192477  33.562078 -86.752285   \n",
       "2  http://www.gunviolencearchive.org/incident/186638  33.194426 -87.576201   \n",
       "3  http://www.gunviolencearchive.org/incident/186827  32.537157 -85.897266   \n",
       "4  http://www.gunviolencearchive.org/incident/186723  33.482190 -86.896319   \n",
       "\n",
       "   n_injured  n_killed  \n",
       "0          0         0  \n",
       "1          0         0  \n",
       "2          1         0  \n",
       "3          0         0  \n",
       "4          0         1  "
      ]
     },
     "execution_count": 4,
     "metadata": {},
     "output_type": "execute_result"
    }
   ],
   "source": [
    "gun_data.head()"
   ]
  },
  {
   "cell_type": "code",
   "execution_count": 29,
   "metadata": {
    "scrolled": true
   },
   "outputs": [],
   "source": [
    "# build up datapoints\n",
    "for i, row in gun_data.iterrows():\n",
    "    if(not np.isnan(row['latitude'])):\n",
    "        folium.Marker(location=[row['latitude'], row['longitude']],\n",
    "                      popup=\"<a href=%s> INCIDENT INFO </a> \\n\" %(row.incident_url) +\n",
    "                            \"<p>Date: %s </p>\" %(row.date) +\n",
    "                            \"<p>Number Killed:\\t %d </p>\" %(row.n_killed) +\n",
    "                            \"<p>Number Injured:\\t %d </p>\" % (row.n_injured)).add_to(gun_map)"
   ]
  },
  {
   "cell_type": "code",
   "execution_count": 31,
   "metadata": {},
   "outputs": [],
   "source": [
    "# gun_map\n"
   ]
  },
  {
   "cell_type": "code",
   "execution_count": null,
   "metadata": {},
   "outputs": [],
   "source": []
  }
 ],
 "metadata": {
  "kernelspec": {
   "display_name": "Python 3",
   "language": "python",
   "name": "python3"
  },
  "language_info": {
   "codemirror_mode": {
    "name": "ipython",
    "version": 3
   },
   "file_extension": ".py",
   "mimetype": "text/x-python",
   "name": "python",
   "nbconvert_exporter": "python",
   "pygments_lexer": "ipython3",
   "version": "3.6.1"
  }
 },
 "nbformat": 4,
 "nbformat_minor": 2
}
